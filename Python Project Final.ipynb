{
 "cells": [
  {
   "cell_type": "markdown",
   "metadata": {},
   "source": [
    "##Movie recommender system\n",
    "Dataset: https://grouplens.org/datasets/movielens/"
   ]
  },
  {
   "cell_type": "code",
   "execution_count": 1,
   "metadata": {
    "scrolled": true
   },
   "outputs": [],
   "source": [
    "import numpy as np\n",
    "import pandas as pd\n",
    "import ipywidgets as widgets\n",
    "from IPython.display import Javascript, display\n",
    "from surprise import SVD\n",
    "\n",
    "from CFRecommenderSystem.CFMovieSystem import CFMovieSystem\n",
    "from CFRecommenderSystem.CFData import CFData\n",
    "from CFRecommenderSystem.CFModel import CFModel\n",
    "\n",
    "df_movie = pd.read_csv(r'E:\\Machine Learning lectures\\project\\New folder\\CFRecommenderSystem-master\\CFRecommenderSystem-master\\ml-latest-small\\movies.csv',encoding=\"ISO-8859-1\")\n",
    "df_rating = pd.read_csv(r'E:\\Machine Learning lectures\\project\\New folder\\CFRecommenderSystem-master\\CFRecommenderSystem-master\\ml-latest-small\\ratings.csv',encoding=\"ISO-8859-1\")\n",
    "df_link = pd.read_csv(r'E:\\Machine Learning lectures\\project\\New folder\\CFRecommenderSystem-master\\CFRecommenderSystem-master\\ml-latest-small\\links.csv',encoding=\"ISO-8859-1\")\n",
    "\n",
    "my_tmdb_key = 'e83e104d60a8e051e81b74de405d7bb7'"
   ]
  },
  {
   "cell_type": "code",
   "execution_count": 2,
   "metadata": {
    "scrolled": true
   },
   "outputs": [
    {
     "data": {
      "text/html": [
       "<div>\n",
       "<style scoped>\n",
       "    .dataframe tbody tr th:only-of-type {\n",
       "        vertical-align: middle;\n",
       "    }\n",
       "\n",
       "    .dataframe tbody tr th {\n",
       "        vertical-align: top;\n",
       "    }\n",
       "\n",
       "    .dataframe thead th {\n",
       "        text-align: right;\n",
       "    }\n",
       "</style>\n",
       "<table border=\"1\" class=\"dataframe\">\n",
       "  <thead>\n",
       "    <tr style=\"text-align: right;\">\n",
       "      <th></th>\n",
       "      <th>movieId</th>\n",
       "      <th>title</th>\n",
       "      <th>genres</th>\n",
       "    </tr>\n",
       "  </thead>\n",
       "  <tbody>\n",
       "    <tr>\n",
       "      <th>0</th>\n",
       "      <td>1</td>\n",
       "      <td>Toy Story (1995)</td>\n",
       "      <td>Adventure|Animation|Children|Comedy|Fantasy</td>\n",
       "    </tr>\n",
       "    <tr>\n",
       "      <th>1</th>\n",
       "      <td>2</td>\n",
       "      <td>Jumanji (1995)</td>\n",
       "      <td>Adventure|Children|Fantasy</td>\n",
       "    </tr>\n",
       "    <tr>\n",
       "      <th>2</th>\n",
       "      <td>3</td>\n",
       "      <td>Grumpier Old Men (1995)</td>\n",
       "      <td>Comedy|Romance</td>\n",
       "    </tr>\n",
       "  </tbody>\n",
       "</table>\n",
       "</div>"
      ],
      "text/plain": [
       "   movieId                    title  \\\n",
       "0        1         Toy Story (1995)   \n",
       "1        2           Jumanji (1995)   \n",
       "2        3  Grumpier Old Men (1995)   \n",
       "\n",
       "                                        genres  \n",
       "0  Adventure|Animation|Children|Comedy|Fantasy  \n",
       "1                   Adventure|Children|Fantasy  \n",
       "2                               Comedy|Romance  "
      ]
     },
     "execution_count": 2,
     "metadata": {},
     "output_type": "execute_result"
    }
   ],
   "source": [
    "df_movie.head(3)"
   ]
  },
  {
   "cell_type": "code",
   "execution_count": 3,
   "metadata": {},
   "outputs": [
    {
     "data": {
      "text/html": [
       "<div>\n",
       "<style scoped>\n",
       "    .dataframe tbody tr th:only-of-type {\n",
       "        vertical-align: middle;\n",
       "    }\n",
       "\n",
       "    .dataframe tbody tr th {\n",
       "        vertical-align: top;\n",
       "    }\n",
       "\n",
       "    .dataframe thead th {\n",
       "        text-align: right;\n",
       "    }\n",
       "</style>\n",
       "<table border=\"1\" class=\"dataframe\">\n",
       "  <thead>\n",
       "    <tr style=\"text-align: right;\">\n",
       "      <th></th>\n",
       "      <th>userId</th>\n",
       "      <th>movieId</th>\n",
       "      <th>rating</th>\n",
       "      <th>timestamp</th>\n",
       "    </tr>\n",
       "  </thead>\n",
       "  <tbody>\n",
       "    <tr>\n",
       "      <th>0</th>\n",
       "      <td>1</td>\n",
       "      <td>1</td>\n",
       "      <td>4.0</td>\n",
       "      <td>964982703</td>\n",
       "    </tr>\n",
       "    <tr>\n",
       "      <th>1</th>\n",
       "      <td>1</td>\n",
       "      <td>3</td>\n",
       "      <td>4.0</td>\n",
       "      <td>964981247</td>\n",
       "    </tr>\n",
       "    <tr>\n",
       "      <th>2</th>\n",
       "      <td>1</td>\n",
       "      <td>6</td>\n",
       "      <td>4.0</td>\n",
       "      <td>964982224</td>\n",
       "    </tr>\n",
       "  </tbody>\n",
       "</table>\n",
       "</div>"
      ],
      "text/plain": [
       "   userId  movieId  rating  timestamp\n",
       "0       1        1     4.0  964982703\n",
       "1       1        3     4.0  964981247\n",
       "2       1        6     4.0  964982224"
      ]
     },
     "execution_count": 3,
     "metadata": {},
     "output_type": "execute_result"
    }
   ],
   "source": [
    "df_rating.head(3)"
   ]
  },
  {
   "cell_type": "markdown",
   "metadata": {},
   "source": [
    "# Prepare the dataset for training"
   ]
  },
  {
   "cell_type": "code",
   "execution_count": 4,
   "metadata": {},
   "outputs": [],
   "source": [
    "# Load rating data to CFData class\n",
    "df_data = df_rating[['userId','movieId', 'rating',]]\n",
    "df_data = df_data.rename(index=str, columns={'userId': 'userID', 'movieId': 'itemID', 'rating': 'rating'})\n",
    "df_id_name_table = df_movie[['movieId', 'title']]\n",
    "df_id_name_table = df_id_name_table.rename(index=str, columns={'movieId':'itemID', 'title':'itemName'})"
   ]
  },
  {
   "cell_type": "markdown",
   "metadata": {},
   "source": [
    "# Model training for collaborative filtering by SVD"
   ]
  },
  {
   "cell_type": "code",
   "execution_count": 5,
   "metadata": {},
   "outputs": [],
   "source": [
    "\n",
    "data_movie = CFData(df_data, test_ratio=None, df_id_name_table=df_id_name_table, rating_scale=(0.5, 5))\n",
    "model_svd = CFModel(SVD, lr_all=0.005, reg_all=0.4, n_epochs=30)\n",
    "model_svd.fit(data_movie.trainset)\n",
    "cf_movie_sys = CFMovieSystem(data_movie, model_svd)"
   ]
  },
  {
   "cell_type": "markdown",
   "metadata": {},
   "source": [
    "# Movie recommendation based on user-selected movie"
   ]
  },
  {
   "cell_type": "code",
   "execution_count": 6,
   "metadata": {},
   "outputs": [
    {
     "data": {
      "application/vnd.jupyter.widget-view+json": {
       "model_id": "534b8aabe6254897b2ed6a2b021951e3",
       "version_major": 2,
       "version_minor": 0
      },
      "text/plain": [
       "VBox(children=(Dropdown(description='Select a movie:', options=('Forrest Gump (1994)', 'Shawshank Redemption, …"
      ]
     },
     "metadata": {},
     "output_type": "display_data"
    },
    {
     "data": {
      "application/javascript": [
       "IPython.notebook.execute_cell_range(IPython.notebook.get_selected_index()+1,                       IPython.notebook.get_selected_index()+2)"
      ],
      "text/plain": [
       "<IPython.core.display.Javascript object>"
      ]
     },
     "metadata": {},
     "output_type": "display_data"
    }
   ],
   "source": [
    "def get_most_rated_movie(df_movie_in, df_rating_in, n_output):\n",
    "    movie_list_tmp1 = pd.merge(df_movie, df_rating, on='movieId', how='inner').groupby('title').count()   \n",
    "    movie_list_top_k = movie_list_tmp1['rating'].sort_values(ascending=False).index[:n_output]\n",
    "    return movie_list_top_k\n",
    "def run_next_cell(ev):\n",
    "    display(Javascript('IPython.notebook.execute_cell_range(IPython.notebook.get_selected_index()+1, \\\n",
    "                      IPython.notebook.get_selected_index()+2)'))\n",
    "\n",
    "movie_list_top_100 = get_most_rated_movie(df_movie, df_rating, 700)\n",
    "selected_movie_name = widgets.Dropdown(options=movie_list_top_100, value='Forrest Gump (1994)', \n",
    "                                       description='Select a movie:')\n",
    "button = widgets.Button(description=\"Top-10 movies recommended to you\", layout=widgets.Layout(width='40%', height='40px'))\n",
    "button.on_click(run_next_cell)\n",
    "widgets.VBox([selected_movie_name, button])"
   ]
  },
  {
   "cell_type": "code",
   "execution_count": 8,
   "metadata": {},
   "outputs": [
    {
     "name": "stdout",
     "output_type": "stream",
     "text": [
      "Movie you select is 'Lord of the Rings: The Fellowship of the Ring, The (2001)'\n"
     ]
    },
    {
     "data": {
      "text/html": [
       "<table style='width:10%'><tr></tr><tr><td><img src='http://image.tmdb.org/t/p/original/6oom5QYQ2yQTMJIbnvbkBL9cHo6.jpg' /></td></tr></table>"
      ],
      "text/plain": [
       "<IPython.core.display.HTML object>"
      ]
     },
     "metadata": {},
     "output_type": "display_data"
    },
    {
     "name": "stdout",
     "output_type": "stream",
     "text": [
      "Based on 'Lord of the Rings: The Fellowship of the Ring, The (2001)', we recommend 10 movies below:\n"
     ]
    },
    {
     "data": {
      "text/html": [
       "<table style='width:100%'><tr><td><img src='http://image.tmdb.org/t/p/original/hEQRmaWYbNVT9p2sGT2o340YKw3.jpg' /></td><td><img src='http://image.tmdb.org/t/p/original/7RLrUQH2qnCw4To5nVwRAdywGVy.jpg' /></td><td><img src='http://image.tmdb.org/t/p/original/oGSiAJTT9BxN3sxrg4Fyfc8ElGg.jpg' /></td><td><img src='http://image.tmdb.org/t/p/original/BF7jnHlq8rwG1X0H7nFXQSbNlX.jpg' /></td><td><img src='http://image.tmdb.org/t/p/original/mVquLLTLhT9larw7NWiCmrrc9hO.jpg' /></td><td><img src='http://image.tmdb.org/t/p/original/oNRJqa2PDMm6Uaki2OD5BgWxLIS.jpg' /></td><td><img src='http://image.tmdb.org/t/p/original/2rXbkUzM5ySwh3FmsFWSZdkMiaP.jpg' /></td><td><img src='http://image.tmdb.org/t/p/original/6z52uWRcOHte8NFte2gXK0ApBPM.jpg' /></td><td><img src='http://image.tmdb.org/t/p/original/pBhvLo2CGu68Xt9S0ec1BvkxFf2.jpg' /></td><td><img src='http://image.tmdb.org/t/p/original/mKsEoJf6Anet52lsWPfQEYcX5xr.jpg' /></td></tr></table>"
      ],
      "text/plain": [
       "<IPython.core.display.HTML object>"
      ]
     },
     "metadata": {},
     "output_type": "display_data"
    },
    {
     "name": "stdout",
     "output_type": "stream",
     "text": [
      "['Lord of the Rings: The Return of the King, The (2003)', 'Lord of the Rings: The Two Towers, The (2002)', 'Maverick (1994)', \"Puppet Master III: Toulon's Revenge (1991)\", 'Company of Wolves, The (1984)', 'Mouse That Roared, The (1959)', 'Dangerous Liaisons (1988)', 'Glass House, The (2001)', 'Phantom Tollbooth, The (1970)', 'Kentucky Fried Movie, The (1977)']\n"
     ]
    }
   ],
   "source": [
    "# Obtain input movie name\n",
    "movie_name = selected_movie_name.value\n",
    "if my_tmdb_key:\n",
    "    \n",
    "    cf_movie_sys.show_recommended_movies(movie_name, k=10, tmdb_key=my_tmdb_key, df_ml_imdb_id=df_link)\n",
    "else:\n",
    "     \n",
    "    cf_movie_sys.show_recommended_movies(movie_name, k=10)"
   ]
  },
  {
   "cell_type": "code",
   "execution_count": null,
   "metadata": {},
   "outputs": [],
   "source": []
  }
 ],
 "metadata": {
  "kernelspec": {
   "display_name": "Python 3",
   "language": "python",
   "name": "python3"
  },
  "language_info": {
   "codemirror_mode": {
    "name": "ipython",
    "version": 3
   },
   "file_extension": ".py",
   "mimetype": "text/x-python",
   "name": "python",
   "nbconvert_exporter": "python",
   "pygments_lexer": "ipython3",
   "version": "3.7.0"
  }
 },
 "nbformat": 4,
 "nbformat_minor": 2
}
